{
 "cells": [
  {
   "cell_type": "code",
   "execution_count": null,
   "metadata": {},
   "outputs": [],
   "source": [
    "#Main loop"
   ]
  },
  {
   "cell_type": "code",
   "execution_count": null,
   "metadata": {},
   "outputs": [],
   "source": [
    "#Import the dataset\n",
    "#Train\n",
    "#Validation\n",
    "#Test"
   ]
  },
  {
   "cell_type": "code",
   "execution_count": null,
   "metadata": {},
   "outputs": [],
   "source": [
    "'''\n",
    "1) Compute the heatmap\n",
    "\n",
    "2) Compute annotation embedding\n",
    "\n",
    "3) Feed the heatmap and annotation embedding to the model\n",
    "\n",
    "4) Get a bounding box as output\n",
    "\n",
    "5) Compute the loss \n",
    "'''"
   ]
  },
  {
   "cell_type": "code",
   "execution_count": null,
   "metadata": {},
   "outputs": [],
   "source": []
  },
  {
   "cell_type": "code",
   "execution_count": null,
   "metadata": {},
   "outputs": [],
   "source": [
    "#Loss function\n",
    "#Intersection over union\n",
    "\n",
    "'''\n",
    "A boundig box is defined as a tuple of 4 values (x, y, w, h)\n",
    "\n",
    "where x and y are the coordinates of the bottom left corner of the bounding box\n",
    "w and h are the width and height of the bounding box\n",
    "\n",
    "'''\n",
    "def bb_intersection_over_union(boxA, boxB):\n",
    "\t# Determine the bottom left corner of the intersection\n",
    "    intersection_bottom_left_x = max(boxA[0], boxB[0])\n",
    "    intersection_bottom_left_y = max(boxA[1], boxB[1])\n",
    "    # Determine the top right corner of the intersection\n",
    "    intersection_top_right_x = min(boxA[0] + boxA[2], boxB[0] + boxB[2])\n",
    "    intersection_top_right_y = min(boxA[1] + boxA[3], boxB[1] + boxB[3])\n",
    "    # Check if the boxes intersect\n",
    "    if(intersection_bottom_left_x >= intersection_bottom_left_x or intersection_bottom_left_y >= intersection_top_right_y):\n",
    "        return 0\n",
    "    # Compute the area of intersection, and the area of the original boxes\n",
    "    intersection_area = (intersection_top_right_x - intersection_bottom_left_x) * (intersection_top_right_y - intersection_bottom_left_y)\n",
    "    boxA_area = boxA[2] * boxA[3]\n",
    "    boxB_area = boxB[2] * boxB[3]\n",
    "    # Compute the union area by adding the area of the two boxes and subtracting the area of intersection\n",
    "    union_area = boxA_area + boxB_area - intersection_area\n",
    "    iou = intersection_area / float(union_area)\n",
    "\t# return the intersection over union value\n",
    "    return iou"
   ]
  },
  {
   "cell_type": "code",
   "execution_count": null,
   "metadata": {},
   "outputs": [],
   "source": []
  }
 ],
 "metadata": {
  "language_info": {
   "name": "python"
  },
  "orig_nbformat": 4
 },
 "nbformat": 4,
 "nbformat_minor": 2
}
